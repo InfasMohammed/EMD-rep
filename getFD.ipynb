{
 "cells": [
  {
   "cell_type": "code",
   "execution_count": 3,
   "metadata": {},
   "outputs": [
    {
     "name": "stdout",
     "output_type": "stream",
     "text": [
      "('infasmohamed2018@gamail.com',)\n",
      "('aakkeef9253@gmail.com',)\n",
      "('infmoha8@gmail.com',)\n"
     ]
    }
   ],
   "source": [
    "import mysql.connector\n",
    "from datetime import date \n",
    "\n",
    "#sql connection\n",
    "mydb = mysql.connector.connect(host=\"localhost\",user=\"root\", passwd=\"\", database=\"testdb\")\n",
    "mycursor = mydb.cursor()\n",
    "currentDate = date.today()\n",
    "mycursor.execute(\"select Email from empdetails where Date = '%s' \" %currentDate)\n",
    "for i in mycursor:\n",
    "    print(i)"
   ]
  },
  {
   "cell_type": "code",
   "execution_count": 1,
   "metadata": {},
   "outputs": [
    {
     "name": "stdout",
     "output_type": "stream",
     "text": [
      "[('infasmohamed2018@gamail.com',), ('aakkeef9253@gmail.com',), ('infmoha8@gmail.com',), ('infasmohamed2018@gmail.com',)]\n"
     ]
    }
   ],
   "source": [
    "import mysql.connector\n",
    "from datetime import date \n",
    "import os\n",
    "from email.message import EmailMessage\n",
    "import ssl\n",
    "import smtplib\n",
    "\n",
    "\n",
    "\n",
    "#sql connection\n",
    "mydb = mysql.connector.connect(host=\"localhost\",user=\"root\", passwd=\"\", database=\"testdb\")\n",
    "mycursor = mydb.cursor()\n",
    "currentDate = date.today()\n",
    "mycursor.execute(\"select Email from empdetails where Date = '%s'\" %currentDate)\n",
    "\n",
    "\n",
    "resipient_list=[]\n",
    "myList=\"\"\n",
    "\n",
    "for i in mycursor:\n",
    "    resipient_list.append(i)\n",
    "print(resipient_list)\n",
    "\n",
    "# for j in resipient_list:\n",
    "#     myList =  myList+\"'\"+((str(j).strip('(),\\'[]'))) +\"'\"\n",
    "# print(myList)\n",
    "\n",
    "\n",
    "#sending mail\n",
    "email_sender = 'inmohammedinfas@gmail.com'\n",
    "email_password = 'jpqbnbcrjogawlym'\n",
    "email_receiver = resipient_list\n",
    "\n",
    "subject = \"Happy Birthday\"\n",
    "\n",
    "body =\"\"\"\n",
    "The older I get, the more I realize that I am still a little younger than you! Happy birthday.\n",
    "\n",
    "Regards\n",
    "HR Team\n",
    "EMD Labs\n",
    "\n",
    "This is only for test\n",
    "\"\"\"\n",
    "\n",
    "em = EmailMessage()\n",
    "em['from'] = email_sender\n",
    "em['To'] = email_receiver\n",
    "em['Subject'] = subject\n",
    "em.set_content(body)\n",
    "\n",
    "cont = ssl.create_default_context()\n",
    "\n",
    "\n",
    "with smtplib.SMTP_SSL('smtp.gmail.com', 465, context=cont) as smtp:\n",
    "    smtp.login(email_sender,email_password)\n",
    "    smtp.sendmail(email_sender,email_receiver, em.as_string())\n",
    "\n"
   ]
  },
  {
   "cell_type": "code",
   "execution_count": 13,
   "metadata": {},
   "outputs": [
    {
     "name": "stdout",
     "output_type": "stream",
     "text": [
      "1\n"
     ]
    }
   ],
   "source": [
    "# C:\\Users\\HP\\AppData\\Local\\Programs\\Python\\Python310\\python.exe\n",
    "\n",
    "# C:\\Users\\HP\\AppData\\Local\\Programs\\Python\\Python310\\python.exe\n",
    "\n"
   ]
  },
  {
   "cell_type": "code",
   "execution_count": null,
   "metadata": {},
   "outputs": [],
   "source": []
  }
 ],
 "metadata": {
  "kernelspec": {
   "display_name": "Python 3.10.5 ('myenv')",
   "language": "python",
   "name": "python3"
  },
  "language_info": {
   "codemirror_mode": {
    "name": "ipython",
    "version": 3
   },
   "file_extension": ".py",
   "mimetype": "text/x-python",
   "name": "python",
   "nbconvert_exporter": "python",
   "pygments_lexer": "ipython3",
   "version": "3.10.4"
  },
  "orig_nbformat": 4,
  "vscode": {
   "interpreter": {
    "hash": "ba5ed1875cee054fc06d569e64fab9a5439443b6f2e28d26e3689d6e6d8fc7e8"
   }
  }
 },
 "nbformat": 4,
 "nbformat_minor": 2
}
